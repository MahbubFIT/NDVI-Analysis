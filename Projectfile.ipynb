{
 "cells": [
  {
   "cell_type": "code",
   "execution_count": 1,
   "id": "a39427b0-a4db-4322-9bda-cae133651e2b",
   "metadata": {},
   "outputs": [],
   "source": [
    "#############################################\n",
    "### Solution to NDVI Analysis for Saxon Switzerland National Park\n",
    "#### Mahbubul Alam\n",
    "#### HNEE 21, February,2025\n",
    "##############################################"
   ]
  },
  {
   "cell_type": "code",
   "execution_count": 2,
   "id": "bee1f8b0-cde7-40b7-9543-5e39fce66ffc",
   "metadata": {},
   "outputs": [],
   "source": [
    "import numpy as np\n",
    "import rasterio\n",
    "import geopandas as gpd\n",
    "import matplotlib.pyplot as plt\n",
    "from rasterio.mask import mask\n",
    "from shapely.geometry import mapping\n",
    "import seaborn as sns\n"
   ]
  },
  {
   "cell_type": "code",
   "execution_count": 3,
   "id": "f7766e39-3236-4af8-b89f-ea563b945ffb",
   "metadata": {},
   "outputs": [],
   "source": [
    "\n",
    "# Define file paths for summer and winter datasets\n",
    "seasonal_paths = {\n",
    "    \"Summer\": {\"red\": \"Data/SB04.tif\", \"nir\": \"Data/SB08.tif\"},\n",
    "    \"Winter\": {\"red\": \"Data/WB04.tif\", \"nir\": \"Data/WB08.tif\"}\n",
    "}\n",
    "boundary_shp = \"Data/Boundary.shp\"\n"
   ]
  },
  {
   "cell_type": "code",
   "execution_count": 4,
   "id": "9b041e21-7e84-4640-9cbb-90aee3b465f2",
   "metadata": {},
   "outputs": [],
   "source": [
    "\n",
    "\n",
    "def load_and_compute_ndvi(red_path, nir_path, boundary_shp):\n",
    "    \"\"\"\n",
    "    Load red and NIR bands, clip to boundary, compute NDVI, and handle division by zero errors.\n",
    "    \"\"\"\n",
    "    # Load the boundary shapefile\n",
    "    boundary = gpd.read_file(boundary_shp)\n",
    "    \n",
    "    # Reproject if necessary\n",
    "    with rasterio.open(red_path) as src:\n",
    "        raster_crs = src.crs\n",
    "    if boundary.crs != raster_crs:\n",
    "        print(f\"Reprojecting boundary from {boundary.crs} to {raster_crs}\")\n",
    "        boundary = boundary.to_crs(raster_crs)\n",
    "\n",
    "    # Convert boundary to GeoJSON format\n",
    "    boundary_geom = [mapping(geom) for geom in boundary.geometry]\n",
    "\n",
    "    # Load and mask the Red band\n",
    "    with rasterio.open(red_path) as red_src:\n",
    "        red_band, _ = mask(red_src, boundary_geom, crop=True)\n",
    "        red_band = red_band[0].astype(float)  # Extract first band and convert to float\n",
    "\n",
    "    # Load and mask the NIR band\n",
    "    with rasterio.open(nir_path) as nir_src:\n",
    "        nir_band, _ = mask(nir_src, boundary_geom, crop=True)\n",
    "        nir_band = nir_band[0].astype(float)  # Extract first band and convert to float\n",
    "\n",
    "    # Ensure no NaN or Inf values\n",
    "    red_band = np.nan_to_num(red_band, nan=0.0, posinf=0.0, neginf=0.0)\n",
    "    nir_band = np.nan_to_num(nir_band, nan=0.0, posinf=0.0, neginf=0.0)\n",
    "\n",
    "    # Compute NDVI while avoiding division by zero\n",
    "    epsilon = 1e-10  # Small value to prevent division errors\n",
    "    with np.errstate(divide='ignore', invalid='ignore'):\n",
    "        ndvi = np.where((nir_band + red_band) < epsilon, np.nan, (nir_band - red_band) / (nir_band + red_band))\n",
    "\n",
    "    return ndvi, boundary\n",
    "\n"
   ]
  },
  {
   "cell_type": "code",
   "execution_count": null,
   "id": "eeaf0f49-115c-4a2e-bac4-40d57a281811",
   "metadata": {},
   "outputs": [],
   "source": [
    "# Process NDVI for each season\n",
    "for season, paths in seasonal_paths.items():\n",
    "    red_path, nir_path = paths[\"red\"], paths[\"nir\"]\n",
    "    \n",
    "    # Compute NDVI for the given season\n",
    "    ndvi_map, boundary = load_and_compute_ndvi(red_path, nir_path, boundary_shp)\n",
    "    \n",
    "    # Plot the NDVI map\n",
    "    plt.figure(figsize=(8, 6))\n",
    "    plt.imshow(ndvi_map, cmap='RdYlGn', vmin=-1, vmax=1)\n",
    "    plt.colorbar(label='NDVI')\n",
    "    plt.title(f'NDVI Map ({season})')\n",
    "    plt.show()"
   ]
  },
  {
   "cell_type": "code",
   "execution_count": null,
   "id": "79fefb29-0ccd-49aa-89e4-da8f18eb0a00",
   "metadata": {},
   "outputs": [],
   "source": [
    "\n",
    "# Compute NDVI for each season\n",
    "ndvi_data = {season: load_and_compute_ndvi(paths[\"red\"], paths[\"nir\"], boundary_shp)[0].flatten()\n",
    "             for season, paths in seasonal_paths.items()}\n",
    "\n",
    "# Plot Side-by-Side Histograms\n",
    "fig, axes = plt.subplots(1, 2, figsize=(12, 5), sharex=True, sharey=True)\n",
    "\n",
    "for ax, (season, color) in zip(axes, [(\"Summer\", \"green\"), (\"Winter\", \"blue\")]):\n",
    "    sns.histplot(ndvi_data[season], bins=30, kde=True, color=color, alpha=0.7, ax=ax)\n",
    "    ax.set_title(f\"NDVI Distribution: {season}\")\n",
    "    ax.set_xlabel(\"NDVI Value\")\n",
    "    ax.grid(True)\n",
    "\n",
    "plt.tight_layout()\n",
    "plt.show()\n"
   ]
  },
  {
   "cell_type": "code",
   "execution_count": null,
   "id": "a80bba7c-876f-4b39-b56c-84677a2ac720",
   "metadata": {},
   "outputs": [],
   "source": [
    "\n",
    "# Compute NDVI for Summer and Winter\n",
    "ndvi_summer, _ = load_and_compute_ndvi(seasonal_paths[\"Summer\"][\"red\"], seasonal_paths[\"Summer\"][\"nir\"], boundary_shp)\n",
    "ndvi_winter, _ = load_and_compute_ndvi(seasonal_paths[\"Winter\"][\"red\"], seasonal_paths[\"Winter\"][\"nir\"], boundary_shp)\n",
    "\n",
    "# Compute NDVI Difference (Summer - Winter)\n",
    "ndvi_diff = ndvi_summer - ndvi_winter\n",
    "\n",
    "\n",
    "# --- Compute NDVI Difference Statistics ---\n",
    "stats = {\n",
    "    \"Mean NDVI Difference\": np.nanmean(ndvi_diff),\n",
    "    \"Standard Deviation\": np.nanstd(ndvi_diff),\n",
    "    \"Minimum NDVI Difference\": np.nanmin(ndvi_diff),\n",
    "    \"Maximum NDVI Difference\": np.nanmax(ndvi_diff),\n",
    "    \"Total Pixels Analyzed\": np.count_nonzero(~np.isnan(ndvi_diff))\n",
    "}\n",
    "\n",
    "# Print NDVI Difference Statistics in a Clear Format\n",
    "print(\"\\n=== NDVI Difference Statistics (Summer - Winter) ===\")\n",
    "for key, value in stats.items():\n",
    "    print(f\"{key}: {value:.4f}\")\n"
   ]
  },
  {
   "cell_type": "code",
   "execution_count": null,
   "id": "aa00c10c-5b11-47ca-bd76-d426b9800ae1",
   "metadata": {
    "scrolled": true
   },
   "outputs": [],
   "source": [
    "\n",
    "# --- Plot NDVI Difference Map ---\n",
    "plt.figure(figsize=(6, 4))\n",
    "plt.imshow(ndvi_diff, cmap='coolwarm', vmin=-0.5, vmax=0.5)\n",
    "plt.colorbar(label=\"NDVI Difference (Summer - Winter)\")\n",
    "plt.title(\"NDVI Difference Map\")\n",
    "plt.show()\n",
    "\n"
   ]
  },
  {
   "cell_type": "code",
   "execution_count": null,
   "id": "41c51161-9974-4580-a0e4-c003c66ef4fa",
   "metadata": {},
   "outputs": [],
   "source": [
    "# Define color scheme\n",
    "colors = ['red' if x < 0 else 'green' for x in ndvi_diff.flatten()]\n",
    "\n",
    "# Create NDVI Difference Histogram with Two Colors\n",
    "plt.figure(figsize=(8, 5))\n",
    "plt.hist(ndvi_diff.flatten(), bins=100, color='gray', alpha=0.7, edgecolor='black')\n",
    "\n",
    "# Overlay two colors\n",
    "plt.hist(ndvi_diff.flatten()[ndvi_diff.flatten() < 0], bins=50, color='red', alpha=0.7, edgecolor='black', label='NDVI Decrease (Winter < Summer)')\n",
    "plt.hist(ndvi_diff.flatten()[ndvi_diff.flatten() > 0], bins=50, color='green', alpha=0.7, edgecolor='black', label='NDVI Increase (Winter > Summer)')\n",
    "\n",
    "# Titles and labels\n",
    "plt.title(\"NDVI Difference Histogram (Summer - Winter)\")\n",
    "plt.xlabel(\"NDVI Difference\")\n",
    "plt.ylabel(\"Frequency\")\n",
    "plt.legend()\n",
    "plt.grid(True)\n",
    "\n",
    "# Show plot\n",
    "plt.show()"
   ]
  },
  {
   "cell_type": "code",
   "execution_count": null,
   "id": "3fb93b74-ab56-4a5c-8fcf-f403daed7ba3",
   "metadata": {},
   "outputs": [],
   "source": [
    "# Plot NDVI Boxplot\n",
    "plt.figure(figsize=(10, 6))\n",
    "sns.boxplot(data=[ndvi_data[\"Summer\"], ndvi_data[\"Winter\"]], palette=[\"green\", \"blue\"])\n",
    "plt.xticks([0, 1], [\"Summer\", \"Winter\"])\n",
    "plt.ylabel(\"NDVI Value\")\n",
    "plt.title(\"NDVI Distribution (Boxplot)\")\n",
    "plt.grid(True)\n",
    "plt.show()"
   ]
  },
  {
   "cell_type": "code",
   "execution_count": null,
   "id": "da1804f2-d35e-4d8b-af11-24396774e15c",
   "metadata": {},
   "outputs": [],
   "source": []
  },
  {
   "cell_type": "code",
   "execution_count": null,
   "id": "e8bb744d-85d0-4267-abf3-b5fb445d8edf",
   "metadata": {},
   "outputs": [],
   "source": []
  }
 ],
 "metadata": {
  "kernelspec": {
   "display_name": "base",
   "language": "python",
   "name": "python3"
  },
  "language_info": {
   "codemirror_mode": {
    "name": "ipython",
    "version": 3
   },
   "file_extension": ".py",
   "mimetype": "text/x-python",
   "name": "python",
   "nbconvert_exporter": "python",
   "pygments_lexer": "ipython3",
   "version": "3.12.2"
  }
 },
 "nbformat": 4,
 "nbformat_minor": 5
}
